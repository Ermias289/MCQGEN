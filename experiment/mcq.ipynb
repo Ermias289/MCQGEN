{
 "cells": [
  {
   "cell_type": "code",
   "execution_count": null,
   "id": "d54ba526",
   "metadata": {},
   "outputs": [],
   "source": [
    "import os\n",
    "import json\n",
    "import pandas as pd\n",
    "import traceback \n"
   ]
  },
  {
   "cell_type": "code",
   "execution_count": null,
   "id": "206e6834",
   "metadata": {},
   "outputs": [],
   "source": [
    "from langchain.chat_models import ChatOpenAI"
   ]
  },
  {
   "cell_type": "code",
   "execution_count": null,
   "id": "fdceedf1",
   "metadata": {},
   "outputs": [],
   "source": [
    "KEY = os.getenv(\"openai_api_key\")"
   ]
  }
 ],
 "metadata": {
  "kernelspec": {
   "display_name": "venv",
   "language": "python",
   "name": "python3"
  },
  "language_info": {
   "name": "python",
   "version": "3.13.5"
  }
 },
 "nbformat": 4,
 "nbformat_minor": 5
}
